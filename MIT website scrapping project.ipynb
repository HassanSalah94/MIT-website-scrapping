{
 "cells": [
  {
   "cell_type": "code",
   "execution_count": null,
   "metadata": {},
   "outputs": [],
   "source": [
    "import requests\n",
    "from bs4 import BeautifulSoup\n",
    "\n",
    "response = requests.get(\"https://deeplearning.mit.edu/?fbclid=IwAR0FHi5QjV_bIbeNmpj0oWcVFgMVZ0ckpW6y5Tyx7yyqWJ4ck6Z8WAB3g3g\")\n",
    "soup = BeautifulSoup(response.text)\n",
    "\n",
    "videos = soup.find_all('div', class_ = 'guest')\n",
    "import csv\n",
    "\n",
    "with open ('MIT website data.csv', 'w', newline = '') as fd:\n",
    "    writer = csv.DictWriter(fd, ['person', 'position', 'video', 'slides'])\n",
    "    writer.writeheader()\n",
    "    \n",
    "    for video in videos:\n",
    "        data = {}\n",
    "\n",
    "        person = video.find('div', class_='vid-person')\n",
    "        try:\n",
    "            data[\"person\"] = person.get_text()\n",
    "        except:\n",
    "            data[\"person\"] = None\n",
    "\n",
    "        position = video.find('div', class_='vid-position')\n",
    "        try:\n",
    "            data['position'] = position.get_text()\n",
    "        except:\n",
    "            data['position'] = None\n",
    "\n",
    "        video_materials = video.find('div', class_='vid-materials')\n",
    "        video_links = video_materials.find_all('a')\n",
    "\n",
    "        for a in video_links:\n",
    "            href = a.attrs['href']\n",
    "            if a.get_text() == 'Video':\n",
    "                video_link = href\n",
    "                data['video'] = video_link\n",
    "            else:\n",
    "                slides = href\n",
    "                data['slides'] = slides\n",
    "\n",
    "        writer.writerow(data)\n",
    "        \n",
    "import pandas as pd\n",
    "\n",
    "df = pd.read_csv('MIT website.csv')\n",
    "df.head()"
   ]
  },
  {
   "cell_type": "code",
   "execution_count": null,
   "metadata": {},
   "outputs": [],
   "source": []
  }
 ],
 "metadata": {
  "kernelspec": {
   "display_name": "Python 3",
   "language": "python",
   "name": "python3"
  },
  "language_info": {
   "codemirror_mode": {
    "name": "ipython",
    "version": 3
   },
   "file_extension": ".py",
   "mimetype": "text/x-python",
   "name": "python",
   "nbconvert_exporter": "python",
   "pygments_lexer": "ipython3",
   "version": "3.7.6"
  }
 },
 "nbformat": 4,
 "nbformat_minor": 4
}
